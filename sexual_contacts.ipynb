{
 "cells": [
  {
   "cell_type": "code",
   "execution_count": 1,
   "metadata": {
    "collapsed": false
   },
   "outputs": [],
   "source": [
    "import pandas as pd\n",
    "import networkx as nx\n",
    "import community\n",
    "import matplotlib.pyplot as plt\n",
    "import random\n",
    "import tqdm\n",
    "import numpy as np\n",
    "import random\n",
    "from tqdm import tqdm_notebook\n",
    "from collections import Counter"
   ]
  },
  {
   "cell_type": "code",
   "execution_count": null,
   "metadata": {
    "collapsed": true
   },
   "outputs": [],
   "source": []
  },
  {
   "cell_type": "code",
   "execution_count": 2,
   "metadata": {
    "collapsed": false
   },
   "outputs": [],
   "source": [
    "data = pd.read_csv('sexual_contacts.csv', delimiter = ';', header=None, skiprows=24)\n",
    "data[0] = data[0].apply(lambda s: 'f'+str(s))\n",
    "data[1] = data[1].apply(lambda s: 'm'+str(s))\n",
    "G = nx.from_pandas_dataframe(df=data, source=0, target=1)"
   ]
  },
  {
   "cell_type": "code",
   "execution_count": 3,
   "metadata": {
    "collapsed": false
   },
   "outputs": [],
   "source": [
    "M = set([v for v in G.nodes() if v[0] == 'm'])\n",
    "F = set([v for v in G.nodes() if v[0] == 'f'])"
   ]
  },
  {
   "cell_type": "code",
   "execution_count": 4,
   "metadata": {
    "collapsed": true
   },
   "outputs": [],
   "source": [
    "#функция из networkx, модифированная с учетом требования о двудольности графа\n",
    "\n",
    "def my_double_edge_swap(G, nswap=1, max_tries=100):\n",
    "    G_copy = G.copy()\n",
    "    if G_copy.is_directed():\n",
    "        raise nx.NetworkXError(\n",
    "            \"double_edge_swap() not defined for directed graphs.\")\n",
    "    if nswap > max_tries:\n",
    "        raise nx.NetworkXError(\"Number of swaps > number of tries allowed.\")\n",
    "    if len(G_copy) < 4:\n",
    "        raise nx.NetworkXError(\"Graph has less than four nodes.\")\n",
    "    n = 0\n",
    "    swapcount = 0\n",
    "    keys, degrees = zip(*G_copy.degree())  # keys, degree\n",
    "    cdf = nx.utils.cumulative_distribution(degrees)  # cdf of degree\n",
    "    while swapcount < nswap:\n",
    "        (ui, xi) = nx.utils.discrete_sequence(2, cdistribution=cdf)\n",
    "        if ui == xi:\n",
    "            continue  # same source, skip\n",
    "        u = keys[ui]  # convert index to label\n",
    "        x = keys[xi]\n",
    "        if (u in M and x in M) or (u in F and x in F):\n",
    "            continue\n",
    "        # choose target uniformly from neighbors\n",
    "        v = random.choice(list(G_copy[u]))\n",
    "        y = random.choice(list(G_copy[x]))\n",
    "        if v == y:\n",
    "            continue  # same target, skip\n",
    "        if (x not in G_copy[u]) and (y not in G_copy[v]):  # don't create parallel edges\n",
    "            G_copy.add_edge(u, x)\n",
    "            G_copy.add_edge(v, y)\n",
    "            G_copy.remove_edge(u, v)\n",
    "            G_copy.remove_edge(x, y)\n",
    "            swapcount += 1\n",
    "        if n >= max_tries:\n",
    "            e = ('Maximum number of swap attempts (%s) exceeded ' % n +\n",
    "                 'before desired swaps achieved (%s).' % nswap)\n",
    "            raise nx.NetworkXAlgorithmError(e)\n",
    "        n += 1        \n",
    "    return G_copy"
   ]
  },
  {
   "cell_type": "code",
   "execution_count": null,
   "metadata": {
    "collapsed": false
   },
   "outputs": [],
   "source": []
  },
  {
   "cell_type": "code",
   "execution_count": 5,
   "metadata": {
    "collapsed": true
   },
   "outputs": [],
   "source": [
    "#количество семплов\n",
    "N = 300"
   ]
  },
  {
   "cell_type": "code",
   "execution_count": 6,
   "metadata": {
    "collapsed": false
   },
   "outputs": [],
   "source": [
    "#сэплируем графы \n",
    "#сохраняем графы и комьюнити\n",
    "for i in range(N):\n",
    "    GSampled = my_double_edge_swap(G, nswap=10000, max_tries=10 ** 6)\n",
    "    nx.write_edgelist(GSampled,open(\"sample-graph\\graph-\" + str(i),'wb'))\n",
    "    partition = community.best_partition(GSampled)\n",
    "    com = pd.DataFrame(list(partition.keys()))\n",
    "    com['num'] = com[0].apply(lambda s: partition[s])\n",
    "    com.to_csv(\"sample-graph\\community-\" + str(i), index=None, header=False)    "
   ]
  },
  {
   "cell_type": "code",
   "execution_count": null,
   "metadata": {
    "collapsed": false
   },
   "outputs": [],
   "source": []
  },
  {
   "cell_type": "code",
   "execution_count": 7,
   "metadata": {
    "collapsed": false
   },
   "outputs": [
    {
     "name": "stdout",
     "output_type": "stream",
     "text": [
      "\n"
     ]
    }
   ],
   "source": [
    "#####1\n",
    "#считаем размеры комьюнити в насемплированных графах и их плотности\n",
    "res = []\n",
    "for i in tqdm_notebook(range(N)):\n",
    "    GSampled = nx.read_edgelist(\"sample-graph\\graph-\" + str(i), 'rb')\n",
    "    partition = pd.read_csv(\"sample-graph\\community-\" + str(i), header=None)\n",
    "    partition = dict(zip(partition[0].values, partition[1].values))\n",
    "    groups = dict()\n",
    "    for n, v in partition.items():\n",
    "    \n",
    "        if v in groups.keys():\n",
    "            groups[v].add(n)\n",
    "        else:\n",
    "            groups[v] = set([n])\n",
    "            \n",
    "    group_size = [(idx, len(groups[idx])) for idx in groups]\n",
    "    group_size.sort(key=lambda s: -s[1])\n",
    "    sub = GSampled.subgraph(groups[group_size[0][0]])\n",
    "    res.append([[nx.density(sub)] + [s for _,s in group_size[:5]]])\n",
    "res = [e[0] for e in res]    "
   ]
  },
  {
   "cell_type": "code",
   "execution_count": 8,
   "metadata": {
    "collapsed": false
   },
   "outputs": [],
   "source": [
    "df = pd.DataFrame(res)"
   ]
  },
  {
   "cell_type": "code",
   "execution_count": 9,
   "metadata": {
    "collapsed": false
   },
   "outputs": [
    {
     "data": {
      "text/html": [
       "<div>\n",
       "<table border=\"1\" class=\"dataframe\">\n",
       "  <thead>\n",
       "    <tr style=\"text-align: right;\">\n",
       "      <th></th>\n",
       "      <th>0</th>\n",
       "      <th>1</th>\n",
       "      <th>2</th>\n",
       "      <th>3</th>\n",
       "      <th>4</th>\n",
       "      <th>5</th>\n",
       "    </tr>\n",
       "  </thead>\n",
       "  <tbody>\n",
       "    <tr>\n",
       "      <th>count</th>\n",
       "      <td>300.000000</td>\n",
       "      <td>300.000000</td>\n",
       "      <td>300.000000</td>\n",
       "      <td>300.000000</td>\n",
       "      <td>300.000000</td>\n",
       "      <td>300.000000</td>\n",
       "    </tr>\n",
       "    <tr>\n",
       "      <th>mean</th>\n",
       "      <td>0.001958</td>\n",
       "      <td>1755.266667</td>\n",
       "      <td>1544.063333</td>\n",
       "      <td>1393.126667</td>\n",
       "      <td>1307.753333</td>\n",
       "      <td>1242.743333</td>\n",
       "    </tr>\n",
       "    <tr>\n",
       "      <th>std</th>\n",
       "      <td>0.000169</td>\n",
       "      <td>224.347591</td>\n",
       "      <td>174.764283</td>\n",
       "      <td>119.104254</td>\n",
       "      <td>91.118941</td>\n",
       "      <td>83.645718</td>\n",
       "    </tr>\n",
       "    <tr>\n",
       "      <th>min</th>\n",
       "      <td>0.001600</td>\n",
       "      <td>1253.000000</td>\n",
       "      <td>1194.000000</td>\n",
       "      <td>1163.000000</td>\n",
       "      <td>1008.000000</td>\n",
       "      <td>988.000000</td>\n",
       "    </tr>\n",
       "    <tr>\n",
       "      <th>25%</th>\n",
       "      <td>0.001827</td>\n",
       "      <td>1590.750000</td>\n",
       "      <td>1402.750000</td>\n",
       "      <td>1304.000000</td>\n",
       "      <td>1251.000000</td>\n",
       "      <td>1190.500000</td>\n",
       "    </tr>\n",
       "    <tr>\n",
       "      <th>50%</th>\n",
       "      <td>0.001955</td>\n",
       "      <td>1751.500000</td>\n",
       "      <td>1528.500000</td>\n",
       "      <td>1369.500000</td>\n",
       "      <td>1306.000000</td>\n",
       "      <td>1249.000000</td>\n",
       "    </tr>\n",
       "    <tr>\n",
       "      <th>75%</th>\n",
       "      <td>0.002070</td>\n",
       "      <td>1901.750000</td>\n",
       "      <td>1675.000000</td>\n",
       "      <td>1467.250000</td>\n",
       "      <td>1361.250000</td>\n",
       "      <td>1300.500000</td>\n",
       "    </tr>\n",
       "    <tr>\n",
       "      <th>max</th>\n",
       "      <td>0.002522</td>\n",
       "      <td>2567.000000</td>\n",
       "      <td>2087.000000</td>\n",
       "      <td>1805.000000</td>\n",
       "      <td>1621.000000</td>\n",
       "      <td>1471.000000</td>\n",
       "    </tr>\n",
       "  </tbody>\n",
       "</table>\n",
       "</div>"
      ],
      "text/plain": [
       "                0            1            2            3            4  \\\n",
       "count  300.000000   300.000000   300.000000   300.000000   300.000000   \n",
       "mean     0.001958  1755.266667  1544.063333  1393.126667  1307.753333   \n",
       "std      0.000169   224.347591   174.764283   119.104254    91.118941   \n",
       "min      0.001600  1253.000000  1194.000000  1163.000000  1008.000000   \n",
       "25%      0.001827  1590.750000  1402.750000  1304.000000  1251.000000   \n",
       "50%      0.001955  1751.500000  1528.500000  1369.500000  1306.000000   \n",
       "75%      0.002070  1901.750000  1675.000000  1467.250000  1361.250000   \n",
       "max      0.002522  2567.000000  2087.000000  1805.000000  1621.000000   \n",
       "\n",
       "                 5  \n",
       "count   300.000000  \n",
       "mean   1242.743333  \n",
       "std      83.645718  \n",
       "min     988.000000  \n",
       "25%    1190.500000  \n",
       "50%    1249.000000  \n",
       "75%    1300.500000  \n",
       "max    1471.000000  "
      ]
     },
     "execution_count": 9,
     "metadata": {},
     "output_type": "execute_result"
    }
   ],
   "source": [
    "df.describe()"
   ]
  },
  {
   "cell_type": "code",
   "execution_count": null,
   "metadata": {
    "collapsed": false
   },
   "outputs": [],
   "source": []
  },
  {
   "cell_type": "code",
   "execution_count": 10,
   "metadata": {
    "collapsed": false
   },
   "outputs": [
    {
     "data": {
      "text/plain": [
       "(1, 3832)"
      ]
     },
     "execution_count": 10,
     "metadata": {},
     "output_type": "execute_result"
    }
   ],
   "source": [
    "#размер исходного комьюнити в исходном графе\n",
    "partition = community.best_partition(G)\n",
    "groups = dict()\n",
    "for n, v in partition.items():\n",
    "\n",
    "    if v in groups.keys():\n",
    "        groups[v].add(n)\n",
    "    else:\n",
    "        groups[v] = set([n])\n",
    "group_size = [(idx, len(groups[idx])) for idx in groups]\n",
    "group_size.sort(key=lambda s: -s[1])\n",
    "group_size[0]"
   ]
  },
  {
   "cell_type": "code",
   "execution_count": 11,
   "metadata": {
    "collapsed": false
   },
   "outputs": [
    {
     "data": {
      "text/plain": [
       "0.0016829250881039144"
      ]
     },
     "execution_count": 11,
     "metadata": {},
     "output_type": "execute_result"
    }
   ],
   "source": [
    "#1 плотность максимольного комьюнити в исходном графе\n",
    "subG = G.subgraph(groups[group_size[0][0]])\n",
    "nx.density(subG)"
   ]
  },
  {
   "cell_type": "code",
   "execution_count": null,
   "metadata": {
    "collapsed": false
   },
   "outputs": [],
   "source": []
  },
  {
   "cell_type": "code",
   "execution_count": 12,
   "metadata": {
    "collapsed": false
   },
   "outputs": [],
   "source": [
    "def simple_spread(G, start, p, show):\n",
    "    processed = set()\n",
    "    infected = start\n",
    "    infected_set = set(infected)\n",
    "    number_infected = []\n",
    "    \n",
    "    while len(infected):\n",
    "        i = infected.pop(0)\n",
    "        for n in G.neighbors(i):\n",
    "            if n not in processed and n not in infected_set:\n",
    "                sp = np.random.random()\n",
    "                if sp < p:\n",
    "                    infected.append(n)\n",
    "                    infected_set.add(n)\n",
    "            processed.add(i)   \n",
    "        number_infected.append(len(infected))\n",
    "    if show:\n",
    "        plt.plot(list(range(len(number_infected))), number_infected)\n",
    "        plt.xlabel('Номер шага')\n",
    "        plt.ylabel('Количество заражающих')\n",
    "\n",
    "        plt.show()\n",
    "        print(\"Всего заразившихся: \", len(processed), \" p: \", p)\n",
    "\n",
    "    return len(processed), number_infected"
   ]
  },
  {
   "cell_type": "code",
   "execution_count": null,
   "metadata": {
    "collapsed": false
   },
   "outputs": [],
   "source": []
  },
  {
   "cell_type": "code",
   "execution_count": 13,
   "metadata": {
    "collapsed": false
   },
   "outputs": [],
   "source": [
    "p_range = [.01,.1,.3,.7]"
   ]
  },
  {
   "cell_type": "code",
   "execution_count": 14,
   "metadata": {
    "collapsed": false
   },
   "outputs": [
    {
     "data": {
      "image/png": "[encoded data removed]",
      "text/plain": [
       "<matplotlib.figure.Figure at 0x12883320cc0>"
      ]
     },
     "metadata": {},
     "output_type": "display_data"
    },
    {
     "name": "stdout",
     "output_type": "stream",
     "text": [
      "Всего заразившихся:  1  p:  0.01\n"
     ]
    },
    {
     "data": {
      "image/png": "[encoded data removed]",
      "text/plain": [
       "<matplotlib.figure.Figure at 0x12882e2a8d0>"
      ]
     },
     "metadata": {},
     "output_type": "display_data"
    },
    {
     "name": "stdout",
     "output_type": "stream",
     "text": [
      "Всего заразившихся:  1  p:  0.1\n"
     ]
    },
    {
     "data": {
      "image/png": "[encoded data removed]",
      "text/plain": [
       "<matplotlib.figure.Figure at 0x128832f4fd0>"
      ]
     },
     "metadata": {},
     "output_type": "display_data"
    },
    {
     "name": "stdout",
     "output_type": "stream",
     "text": [
      "Всего заразившихся:  1  p:  0.3\n"
     ]
    },
    {
     "data": {
      "image/png": "[encoded data removed]",
      "text/plain": [
       "<matplotlib.figure.Figure at 0x12880959be0>"
      ]
     },
     "metadata": {},
     "output_type": "display_data"
    },
    {
     "name": "stdout",
     "output_type": "stream",
     "text": [
      "Всего заразившихся:  13061  p:  0.7\n"
     ]
    }
   ],
   "source": [
    "#Начинаем с вершины co случайной вершины\n",
    "\n",
    "for p in p_range:\n",
    "    start = [random.choice(list(G.nodes()))]\n",
    "    simple_spread(G, start, p, True)"
   ]
  },
  {
   "cell_type": "code",
   "execution_count": 15,
   "metadata": {
    "collapsed": false
   },
   "outputs": [
    {
     "name": "stdout",
     "output_type": "stream",
     "text": [
      "\n",
      "0.01\n"
     ]
    },
    {
     "data": {
      "image/png": "[encoded data removed]",
      "text/plain": [
       "<matplotlib.figure.Figure at 0x12880129630>"
      ]
     },
     "metadata": {},
     "output_type": "display_data"
    },
    {
     "name": "stdout",
     "output_type": "stream",
     "text": [
      "                0\n",
      "count  300.000000\n",
      "mean     1.043333\n",
      "std      0.261438\n",
      "min      1.000000\n",
      "25%      1.000000\n",
      "50%      1.000000\n",
      "75%      1.000000\n",
      "max      4.000000\n",
      "0.1\n"
     ]
    },
    {
     "data": {
      "image/png": "[encoded data removed]",
      "text/plain": [
       "<matplotlib.figure.Figure at 0x12880129b38>"
      ]
     },
     "metadata": {},
     "output_type": "display_data"
    },
    {
     "name": "stdout",
     "output_type": "stream",
     "text": [
      "                 0\n",
      "count   300.000000\n",
      "mean    327.590000\n",
      "std     821.716168\n",
      "min       1.000000\n",
      "25%       1.000000\n",
      "50%       1.000000\n",
      "75%       2.000000\n",
      "max    2596.000000\n",
      "0.3\n"
     ]
    },
    {
     "data": {
      "image/png": "[encoded data removed]",
      "text/plain": [
       "<matplotlib.figure.Figure at 0x12882e240f0>"
      ]
     },
     "metadata": {},
     "output_type": "display_data"
    },
    {
     "name": "stdout",
     "output_type": "stream",
     "text": [
      "                 0\n",
      "count   300.000000\n",
      "mean   3266.073333\n",
      "std    3765.450083\n",
      "min       1.000000\n",
      "25%       1.000000\n",
      "50%       2.000000\n",
      "75%    7589.000000\n",
      "max    7774.000000\n",
      "0.7\n"
     ]
    },
    {
     "data": {
      "image/png": "[encoded data removed]",
      "text/plain": [
       "<matplotlib.figure.Figure at 0x128879ca4e0>"
      ]
     },
     "metadata": {},
     "output_type": "display_data"
    },
    {
     "name": "stdout",
     "output_type": "stream",
     "text": [
      "                  0\n",
      "count    300.000000\n",
      "mean   10710.160000\n",
      "std     5139.006842\n",
      "min        1.000000\n",
      "25%    13092.250000\n",
      "50%    13159.000000\n",
      "75%    13198.000000\n",
      "max    13305.000000\n",
      "Wall time: 9min 25s\n"
     ]
    }
   ],
   "source": [
    "%%time\n",
    "###2\n",
    "#начинаем со случайной вершины в насемплированных\n",
    "\n",
    "res01 = []\n",
    "res1 = []\n",
    "res3 = []\n",
    "res7 = []\n",
    "\n",
    "for i in tqdm_notebook(range(N)):\n",
    "    GSampled = nx.read_edgelist(\"sample-graph\\graph-\" + str(i), 'rb')\n",
    "    res01.append(simple_spread(GSampled, [random.choice(list(GSampled.nodes()))], 0.01, False)[0])\n",
    "    res1.append(simple_spread(GSampled, [random.choice(list(GSampled.nodes()))], 0.1, False)[0])\n",
    "    res3.append(simple_spread(GSampled, [random.choice(list(GSampled.nodes()))], 0.3, False)[0])\n",
    "    res7.append(simple_spread(GSampled, [random.choice(list(GSampled.nodes()))], 0.7, False)[0])\n",
    "\n",
    "print(0.01)    \n",
    "plt.hist(res01, bins=100)\n",
    "plt.show()\n",
    "print(pd.DataFrame(res01).describe())\n",
    "\n",
    "print(0.1)\n",
    "plt.hist(res1, bins=100)\n",
    "plt.show()\n",
    "print(pd.DataFrame(res1).describe())\n",
    "\n",
    "\n",
    "print(0.3)\n",
    "plt.hist(res3, bins=100)\n",
    "plt.show()\n",
    "print(pd.DataFrame(res3).describe())\n",
    "\n",
    "print(0.7)\n",
    "plt.hist(res3, bins=100)\n",
    "plt.show()\n",
    "print(pd.DataFrame(res7).describe())\n",
    "\n"
   ]
  },
  {
   "cell_type": "code",
   "execution_count": 16,
   "metadata": {
    "collapsed": false
   },
   "outputs": [
    {
     "name": "stdout",
     "output_type": "stream",
     "text": [
      "0.01\n",
      "\n"
     ]
    },
    {
     "data": {
      "image/png": "[encoded data removed]",
      "text/plain": [
       "<matplotlib.figure.Figure at 0x128831cf630>"
      ]
     },
     "metadata": {},
     "output_type": "display_data"
    },
    {
     "name": "stdout",
     "output_type": "stream",
     "text": [
      "                0\n",
      "count  100.000000\n",
      "mean     1.090000\n",
      "std      0.428646\n",
      "min      1.000000\n",
      "25%      1.000000\n",
      "50%      1.000000\n",
      "75%      1.000000\n",
      "max      4.000000\n",
      "0.1\n",
      "\n"
     ]
    },
    {
     "data": {
      "image/png": "[encoded data removed]",
      "text/plain": [
       "<matplotlib.figure.Figure at 0x1288787d390>"
      ]
     },
     "metadata": {},
     "output_type": "display_data"
    },
    {
     "name": "stdout",
     "output_type": "stream",
     "text": [
      "                 0\n",
      "count   100.000000\n",
      "mean    262.600000\n",
      "std     709.482355\n",
      "min       1.000000\n",
      "25%       1.000000\n",
      "50%       1.000000\n",
      "75%       2.000000\n",
      "max    2248.000000\n",
      "0.3\n",
      "\n"
     ]
    },
    {
     "data": {
      "image/png": "[encoded data removed]",
      "text/plain": [
       "<matplotlib.figure.Figure at 0x12880987438>"
      ]
     },
     "metadata": {},
     "output_type": "display_data"
    },
    {
     "name": "stdout",
     "output_type": "stream",
     "text": [
      "                 0\n",
      "count   100.000000\n",
      "mean   4090.060000\n",
      "std    3717.082159\n",
      "min       1.000000\n",
      "25%       1.000000\n",
      "50%    7320.000000\n",
      "75%    7446.000000\n",
      "max    7567.000000\n",
      "0.7\n",
      "\n"
     ]
    },
    {
     "data": {
      "image/png": "[encoded data removed]",
      "text/plain": [
       "<matplotlib.figure.Figure at 0x12886747940>"
      ]
     },
     "metadata": {},
     "output_type": "display_data"
    },
    {
     "name": "stdout",
     "output_type": "stream",
     "text": [
      "                  0\n",
      "count    100.000000\n",
      "mean    9897.930000\n",
      "std     5589.593358\n",
      "min        1.000000\n",
      "25%    12919.000000\n",
      "50%    13004.500000\n",
      "75%    13040.500000\n",
      "max    13116.000000\n",
      "Wall time: 29.6 s\n"
     ]
    }
   ],
   "source": [
    "%%time\n",
    "###2\n",
    "#начинаем со случайной вершины в исходном\n",
    "for p in p_range:\n",
    "    print(p)\n",
    "    res = []\n",
    "    for i in tqdm_notebook(range(100)):\n",
    "        res.append(simple_spread(G,[random.choice(list(G.nodes()))], p, False)[0])        \n",
    "    plt.hist(res, bins=50)\n",
    "    plt.show()\n",
    "    print(pd.DataFrame(res).describe())"
   ]
  },
  {
   "cell_type": "code",
   "execution_count": 17,
   "metadata": {
    "collapsed": false
   },
   "outputs": [
    {
     "data": {
      "image/png": "[encoded data removed]",
      "text/plain": [
       "<matplotlib.figure.Figure at 0x128f5c51128>"
      ]
     },
     "metadata": {},
     "output_type": "display_data"
    },
    {
     "name": "stdout",
     "output_type": "stream",
     "text": [
      "Всего заразившихся:  10652  p:  0.5\n",
      "\n"
     ]
    },
    {
     "data": {
      "image/png": "[encoded data removed]",
      "text/plain": [
       "<matplotlib.figure.Figure at 0x12880990f98>"
      ]
     },
     "metadata": {},
     "output_type": "display_data"
    },
    {
     "name": "stdout",
     "output_type": "stream",
     "text": [
      "                  0\n",
      "count     50.000000\n",
      "mean   10654.220000\n",
      "std       60.331158\n",
      "min    10514.000000\n",
      "25%    10605.250000\n",
      "50%    10654.500000\n",
      "75%    10705.000000\n",
      "max    10772.000000\n",
      "Wall time: 23.8 s\n"
     ]
    }
   ],
   "source": [
    "%%time\n",
    "###3\n",
    "#Начинаем с 5*3 случайных вершин из топ-комьюнити\n",
    "\n",
    "partition = community.best_partition(G)\n",
    "groups = dict()\n",
    "for n, v in partition.items():\n",
    "\n",
    "    if v in groups.keys():\n",
    "        groups[v].add(n)\n",
    "    else:\n",
    "        groups[v] = set([n])\n",
    "group_size = [(idx, len(groups[idx])) for idx in groups]\n",
    "group_size.sort(key=lambda s: -s[1])\n",
    "\n",
    "\n",
    "\n",
    "sample = []\n",
    "for i in range(5):\n",
    "    idx = group_size[i][0]\n",
    "    sample.extend(random.sample(groups[idx], 3))\n",
    "    \n",
    "simple_spread(G, sample , 0.5, True)\n",
    "\n",
    "res = []\n",
    "for _ in tqdm_notebook(range(50)):\n",
    "    sample = []    \n",
    "    for i in range(5):\n",
    "        idx = group_size[i][0]\n",
    "        sample.extend(random.sample(groups[idx], 3))\n",
    "    res.append(simple_spread(G, sample, 0.5, False)[0])\n",
    "    \n",
    "plt.hist(res, bins=20)\n",
    "plt.show()\n",
    "print(pd.DataFrame(res).describe())"
   ]
  },
  {
   "cell_type": "code",
   "execution_count": null,
   "metadata": {
    "collapsed": false
   },
   "outputs": [],
   "source": []
  },
  {
   "cell_type": "code",
   "execution_count": 18,
   "metadata": {
    "collapsed": false
   },
   "outputs": [],
   "source": [
    "#4"
   ]
  },
  {
   "cell_type": "code",
   "execution_count": 19,
   "metadata": {
    "collapsed": false
   },
   "outputs": [],
   "source": [
    "data = pd.read_csv('Downloads\\pcbi.1001109.s001.csv', delimiter = ';', header=None)\n",
    "data[0] = data[0].apply(lambda s: 'f'+str(s))\n",
    "data[1] = data[1].apply(lambda s: 'm'+str(s))"
   ]
  },
  {
   "cell_type": "code",
   "execution_count": 20,
   "metadata": {
    "collapsed": false
   },
   "outputs": [],
   "source": [
    "\n",
    "\n",
    "GW = nx.Graph()\n",
    "for _, f, m, t, _,_, _,_ in data.itertuples():\n",
    "    GW.add_edge(f, m, weight=t)\n",
    "sorted_edges = sorted(GW.edges(data=True), key=lambda e: e[2]['weight'])"
   ]
  },
  {
   "cell_type": "code",
   "execution_count": 21,
   "metadata": {
    "collapsed": false
   },
   "outputs": [],
   "source": [
    "def time_spread(sorted_edges, start,p=1, show=False):\n",
    "    infected = set()\n",
    "    infected.update(start)\n",
    "    number_infected_day = Counter()\n",
    "    for a, b, t in sorted_edges:\n",
    "        if (a in infected and b not in infected) or (b in infected and a not in infected):\n",
    "            prob = np.random.random()\n",
    "            if prob < p:\n",
    "                infected.add(a)\n",
    "                infected.add(b)\n",
    "                number_infected_day[t['weight']] += 1\n",
    "                \n",
    "            \n",
    "        \n",
    "    if show:       \n",
    "        by_day = sorted([[key, number_infected_day[key]] for key in number_infected_day], key = lambda s: s[1])\n",
    "        total = by_day[:1]\n",
    "        for key, num in by_day[1:]:\n",
    "            total.append([key, num + total[-1][1]])\n",
    "        plt.plot(list(range(len(total))), [num for _, num in total])  \n",
    "        plt.xlabel('День')\n",
    "        plt.ylabel('Количество зараженных')\n",
    "\n",
    "        plt.show()\n",
    "        print(\"Всего заразившихся: \", len(infected), \" p: \", p)            \n",
    "    else:\n",
    "        return len(infected)\n",
    "\n",
    "    "
   ]
  },
  {
   "cell_type": "code",
   "execution_count": null,
   "metadata": {
    "collapsed": false
   },
   "outputs": [],
   "source": []
  },
  {
   "cell_type": "code",
   "execution_count": 22,
   "metadata": {
    "collapsed": false
   },
   "outputs": [
    {
     "data": {
      "image/png": "[encoded data removed]",
      "text/plain": [
       "<matplotlib.figure.Figure at 0x128828e8160>"
      ]
     },
     "metadata": {},
     "output_type": "display_data"
    },
    {
     "name": "stdout",
     "output_type": "stream",
     "text": [
      "Всего заразившихся:  13575  p:  1\n"
     ]
    },
    {
     "data": {
      "image/png": "[encoded data removed]",
      "text/plain": [
       "<matplotlib.figure.Figure at 0x128828e80f0>"
      ]
     },
     "metadata": {},
     "output_type": "display_data"
    },
    {
     "name": "stdout",
     "output_type": "stream",
     "text": [
      "Всего заразившихся:  7371  p:  0.5\n"
     ]
    }
   ],
   "source": [
    "#графики для исходного графа\n",
    "time_spread(sorted_edges, ['f0'],p=1, show=True)\n",
    "time_spread(sorted_edges, ['f0'],p=0.5, show=True)"
   ]
  },
  {
   "cell_type": "code",
   "execution_count": null,
   "metadata": {
    "collapsed": false
   },
   "outputs": [],
   "source": []
  },
  {
   "cell_type": "code",
   "execution_count": 23,
   "metadata": {
    "collapsed": false
   },
   "outputs": [],
   "source": [
    "#функция, возвращающая граф с перемешанными временами\n",
    "def time_mixed(data):\n",
    "    data_copy = data.copy()\n",
    "    times = data[2].tolist()\n",
    "    np.random.shuffle(times)\n",
    "    data_copy[2] = times\n",
    "    GWSampled = nx.Graph()\n",
    "    for _, f, m, t, _,_, _,_ in data_copy.itertuples():\n",
    "        GWSampled.add_edge(f, m, weight=t)\n",
    "    return sorted(GWSampled.edges(data=True), key=lambda e: e[2]['weight'])"
   ]
  },
  {
   "cell_type": "code",
   "execution_count": 24,
   "metadata": {
    "collapsed": false
   },
   "outputs": [
    {
     "data": {
      "image/png": "[encoded data removed]",
      "text/plain": [
       "<matplotlib.figure.Figure at 0x12881a97198>"
      ]
     },
     "metadata": {},
     "output_type": "display_data"
    },
    {
     "name": "stdout",
     "output_type": "stream",
     "text": [
      "Всего заразившихся:  10873  p:  1\n"
     ]
    },
    {
     "data": {
      "image/png": "[encoded data removed]",
      "text/plain": [
       "<matplotlib.figure.Figure at 0x128831cf630>"
      ]
     },
     "metadata": {},
     "output_type": "display_data"
    },
    {
     "name": "stdout",
     "output_type": "stream",
     "text": [
      "Всего заразившихся:  2086  p:  0.5\n"
     ]
    }
   ],
   "source": [
    "#график для случайного графа\n",
    "time_spread(time_mixed(data), ['f0'],p=1, show=True)\n",
    "time_spread(time_mixed(data), ['f0'],p=0.5, show=True)"
   ]
  },
  {
   "cell_type": "code",
   "execution_count": 31,
   "metadata": {
    "collapsed": true
   },
   "outputs": [],
   "source": [
    "partition = community.best_partition(G)\n",
    "groups = dict()\n",
    "for n, v in partition.items():\n",
    "\n",
    "    if v in groups.keys():\n",
    "        groups[v].add(n)\n",
    "    else:\n",
    "        groups[v] = set([n])\n",
    "group_size = [(idx, len(groups[idx])) for idx in groups]\n",
    "group_size.sort(key=lambda s: -s[1])\n",
    "\n",
    "\n",
    "\n",
    "sample = []\n",
    "for i in range(5):\n",
    "    idx = group_size[i][0]\n",
    "    sample.extend(random.sample(groups[idx], 3))"
   ]
  },
  {
   "cell_type": "code",
   "execution_count": null,
   "metadata": {
    "collapsed": false
   },
   "outputs": [],
   "source": []
  },
  {
   "cell_type": "code",
   "execution_count": 38,
   "metadata": {
    "collapsed": false
   },
   "outputs": [
    {
     "data": {
      "image/png": "[encoded data removed]",
      "text/plain": [
       "<matplotlib.figure.Figure at 0x12880382d30>"
      ]
     },
     "metadata": {},
     "output_type": "display_data"
    },
    {
     "name": "stdout",
     "output_type": "stream",
     "text": [
      "                 0\n",
      "count    50.000000\n",
      "mean   4380.160000\n",
      "std     543.096164\n",
      "min    3369.000000\n",
      "25%    3862.500000\n",
      "50%    4423.000000\n",
      "75%    4755.250000\n",
      "max    5347.000000\n"
     ]
    }
   ],
   "source": [
    "#подсчет статистик для исходного графов\n",
    "res = []\n",
    "for _ in tqdm_notebook(range(50)):\n",
    "    res.append(time_spread(sorted_edges, sample,p=0.5, show=False))\n",
    "\n",
    "plt.hist(res, bins=50)\n",
    "plt.xlabel('Количество сэмплов')\n",
    "plt.ylabel('Количество зараженных')\n",
    "plt.show()\n",
    "print(pd.DataFrame(res).describe())\n",
    "    "
   ]
  },
  {
   "cell_type": "code",
   "execution_count": null,
   "metadata": {
    "collapsed": false
   },
   "outputs": [],
   "source": []
  },
  {
   "cell_type": "code",
   "execution_count": 39,
   "metadata": {
    "collapsed": false
   },
   "outputs": [
    {
     "name": "stdout",
     "output_type": "stream",
     "text": [
      "\n"
     ]
    },
    {
     "data": {
      "image/png": "[encoded data removed]",
      "text/plain": [
       "<matplotlib.figure.Figure at 0x12880990eb8>"
      ]
     },
     "metadata": {},
     "output_type": "display_data"
    },
    {
     "name": "stdout",
     "output_type": "stream",
     "text": [
      "                 0\n",
      "count   300.000000\n",
      "mean   3127.096667\n",
      "std     971.068239\n",
      "min     154.000000\n",
      "25%    2447.750000\n",
      "50%    3253.500000\n",
      "75%    3861.500000\n",
      "max    5166.000000\n"
     ]
    }
   ],
   "source": [
    "#подсчет статистик для сэмплированных графов\n",
    "res = []\n",
    "for _ in tqdm_notebook(range(300)):\n",
    "    res.append(time_spread(time_mixed(data), sample,p=0.5, show=False))\n",
    "\n",
    "plt.hist(res, bins=100)\n",
    "plt.xlabel('Количество сэмплов')\n",
    "plt.ylabel('Количество зараженных')\n",
    "plt.show()\n",
    "print(pd.DataFrame(res).describe())"
   ]
  },
  {
   "cell_type": "code",
   "execution_count": null,
   "metadata": {
    "collapsed": true
   },
   "outputs": [],
   "source": []
  }
 ],
 "metadata": {
  "kernelspec": {
   "display_name": "Python 3",
   "language": "python",
   "name": "python3"
  },
  "language_info": {
   "codemirror_mode": {
    "name": "ipython",
    "version": 3
   },
   "file_extension": ".py",
   "mimetype": "text/x-python",
   "name": "python",
   "nbconvert_exporter": "python",
   "pygments_lexer": "ipython3",
   "version": "3.6.0"
  }
 },
 "nbformat": 4,
 "nbformat_minor": 2
}
